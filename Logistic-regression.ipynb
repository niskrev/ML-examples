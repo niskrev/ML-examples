{
 "cells": [
  {
   "cell_type": "code",
   "execution_count": 1,
   "metadata": {},
   "outputs": [],
   "source": [
    "import numpy as np\n",
    "import pandas as pd\n",
    "from datetime import datetime\n",
    "import sklearn"
   ]
  },
  {
   "cell_type": "code",
   "execution_count": 2,
   "metadata": {},
   "outputs": [],
   "source": [
    "import pandas_datareader as web"
   ]
  },
  {
   "cell_type": "code",
   "execution_count": 3,
   "metadata": {},
   "outputs": [],
   "source": [
    "from sklearn.linear_model import LogisticRegression\n",
    "from sklearn.metrics import confusion_matrix"
   ]
  },
  {
   "cell_type": "code",
   "execution_count": 4,
   "metadata": {},
   "outputs": [],
   "source": [
    "df = web.DataReader('aapl', \"yahoo\")"
   ]
  },
  {
   "cell_type": "code",
   "execution_count": 88,
   "metadata": {},
   "outputs": [],
   "source": [
    "def create_dataset(stock_symbol, start_date, end_date, lags=5):\n",
    "    \n",
    "    df = web.DataReader(stock_symbol, \"yahoo\", start_date, end_date)\n",
    "    \n",
    "    dflag = pd.DataFrame(index=df.index)\n",
    "    dflag[\"Today\"] = df[\"Adj Close\"]\n",
    "    dflag[\"Volume\"] = df[\"Volume\"]    \n",
    "    \n",
    "    for i in range(0, lags):\n",
    "        dflag[\"Lag{}\".format(str(i+1))] = df[\"Adj Close\"].shift(i+1)\n",
    "    \n",
    "    dfret = pd.DataFrame(index=dflag.index)\n",
    "    dfret[\"Volume\"] = dflag[\"Volume\"]\n",
    "    dfret[\"Today\"] = dflag[\"Today\"].pct_change()*100\n",
    "    \n",
    "    for i in range(0, lags):\n",
    "        dfret[\"Lag{}\".format(str(i+1))] = dflag[\"Lag{}\".format(str(i+1))].pct_change()*100    \n",
    "        \n",
    "    dfret['Direction'] = np.sign(dfret[\"Today\"])\n",
    "    \n",
    "    dfret.drop(dfret.index[:lags+1], inplace=True)\n",
    "    \n",
    "    dfret.drop(dfret[dfret[\"Direction\"]==0.0].index, inplace=True)\n",
    "    return dfret\n",
    "    "
   ]
  },
  {
   "cell_type": "code",
   "execution_count": 101,
   "metadata": {},
   "outputs": [
    {
     "data": {
      "text/html": [
       "<div>\n",
       "<style scoped>\n",
       "    .dataframe tbody tr th:only-of-type {\n",
       "        vertical-align: middle;\n",
       "    }\n",
       "\n",
       "    .dataframe tbody tr th {\n",
       "        vertical-align: top;\n",
       "    }\n",
       "\n",
       "    .dataframe thead th {\n",
       "        text-align: right;\n",
       "    }\n",
       "</style>\n",
       "<table border=\"1\" class=\"dataframe\">\n",
       "  <thead>\n",
       "    <tr style=\"text-align: right;\">\n",
       "      <th></th>\n",
       "      <th>Volume</th>\n",
       "      <th>Today</th>\n",
       "      <th>Lag1</th>\n",
       "      <th>Lag2</th>\n",
       "      <th>Lag3</th>\n",
       "      <th>Lag4</th>\n",
       "      <th>Lag5</th>\n",
       "      <th>Direction</th>\n",
       "    </tr>\n",
       "    <tr>\n",
       "      <th>Date</th>\n",
       "      <th></th>\n",
       "      <th></th>\n",
       "      <th></th>\n",
       "      <th></th>\n",
       "      <th></th>\n",
       "      <th></th>\n",
       "      <th></th>\n",
       "      <th></th>\n",
       "    </tr>\n",
       "  </thead>\n",
       "  <tbody>\n",
       "    <tr>\n",
       "      <th>2012-01-11</th>\n",
       "      <td>53771200.0</td>\n",
       "      <td>-0.163016</td>\n",
       "      <td>0.358024</td>\n",
       "      <td>-0.158597</td>\n",
       "      <td>1.045358</td>\n",
       "      <td>1.110186</td>\n",
       "      <td>0.537446</td>\n",
       "      <td>-1.0</td>\n",
       "    </tr>\n",
       "    <tr>\n",
       "      <th>2012-01-12</th>\n",
       "      <td>53146800.0</td>\n",
       "      <td>-0.274536</td>\n",
       "      <td>-0.163016</td>\n",
       "      <td>0.358024</td>\n",
       "      <td>-0.158597</td>\n",
       "      <td>1.045358</td>\n",
       "      <td>1.110186</td>\n",
       "      <td>-1.0</td>\n",
       "    </tr>\n",
       "    <tr>\n",
       "      <th>2012-01-13</th>\n",
       "      <td>56505400.0</td>\n",
       "      <td>-0.374936</td>\n",
       "      <td>-0.274536</td>\n",
       "      <td>-0.163016</td>\n",
       "      <td>0.358024</td>\n",
       "      <td>-0.158597</td>\n",
       "      <td>1.045358</td>\n",
       "      <td>-1.0</td>\n",
       "    </tr>\n",
       "    <tr>\n",
       "      <th>2012-01-17</th>\n",
       "      <td>60724300.0</td>\n",
       "      <td>1.164809</td>\n",
       "      <td>-0.374936</td>\n",
       "      <td>-0.274536</td>\n",
       "      <td>-0.163016</td>\n",
       "      <td>0.358024</td>\n",
       "      <td>-0.158597</td>\n",
       "      <td>1.0</td>\n",
       "    </tr>\n",
       "    <tr>\n",
       "      <th>2012-01-18</th>\n",
       "      <td>69197800.0</td>\n",
       "      <td>1.038395</td>\n",
       "      <td>1.164809</td>\n",
       "      <td>-0.374936</td>\n",
       "      <td>-0.274536</td>\n",
       "      <td>-0.163016</td>\n",
       "      <td>0.358024</td>\n",
       "      <td>1.0</td>\n",
       "    </tr>\n",
       "  </tbody>\n",
       "</table>\n",
       "</div>"
      ],
      "text/plain": [
       "                Volume     Today      Lag1      Lag2      Lag3      Lag4  \\\n",
       "Date                                                                       \n",
       "2012-01-11  53771200.0 -0.163016  0.358024 -0.158597  1.045358  1.110186   \n",
       "2012-01-12  53146800.0 -0.274536 -0.163016  0.358024 -0.158597  1.045358   \n",
       "2012-01-13  56505400.0 -0.374936 -0.274536 -0.163016  0.358024 -0.158597   \n",
       "2012-01-17  60724300.0  1.164809 -0.374936 -0.274536 -0.163016  0.358024   \n",
       "2012-01-18  69197800.0  1.038395  1.164809 -0.374936 -0.274536 -0.163016   \n",
       "\n",
       "                Lag5  Direction  \n",
       "Date                             \n",
       "2012-01-11  0.537446       -1.0  \n",
       "2012-01-12  1.110186       -1.0  \n",
       "2012-01-13  1.045358       -1.0  \n",
       "2012-01-17 -0.158597        1.0  \n",
       "2012-01-18  0.358024        1.0  "
      ]
     },
     "execution_count": 101,
     "metadata": {},
     "output_type": "execute_result"
    }
   ],
   "source": [
    "data = create_dataset(\"AAPL\", datetime(2012, 1, 1), datetime(2018, 5, 31), 5)\n",
    "data.head()"
   ]
  },
  {
   "cell_type": "code",
   "execution_count": 102,
   "metadata": {},
   "outputs": [
    {
     "data": {
      "text/plain": [
       " 1.0    834\n",
       "-1.0    770\n",
       "Name: Direction, dtype: int64"
      ]
     },
     "execution_count": 102,
     "metadata": {},
     "output_type": "execute_result"
    }
   ],
   "source": [
    "data[\"Direction\"].value_counts()"
   ]
  },
  {
   "cell_type": "code",
   "execution_count": 103,
   "metadata": {},
   "outputs": [],
   "source": [
    "X = data[[\"Lag1\", \"Lag2\", \"Lag3\", \"Lag4\", \"Lag5\"]]\n",
    "y = data[\"Direction\"]"
   ]
  },
  {
   "cell_type": "code",
   "execution_count": 104,
   "metadata": {},
   "outputs": [],
   "source": [
    "start_test = datetime(2017,1,1)"
   ]
  },
  {
   "cell_type": "code",
   "execution_count": 105,
   "metadata": {},
   "outputs": [],
   "source": [
    "X_train = X[X.index<start_test]\n",
    "y_train = y[y.index<start_test]\n",
    "X_test = X[X.index>=start_test]\n",
    "y_test = y[y.index>=start_test]"
   ]
  },
  {
   "cell_type": "code",
   "execution_count": 106,
   "metadata": {},
   "outputs": [],
   "source": [
    "model = LogisticRegression()"
   ]
  },
  {
   "cell_type": "code",
   "execution_count": 107,
   "metadata": {},
   "outputs": [
    {
     "data": {
      "text/plain": [
       "LogisticRegression(C=1.0, class_weight=None, dual=False, fit_intercept=True,\n",
       "          intercept_scaling=1, max_iter=100, multi_class='ovr', n_jobs=1,\n",
       "          penalty='l2', random_state=None, solver='liblinear', tol=0.0001,\n",
       "          verbose=0, warm_start=False)"
      ]
     },
     "execution_count": 107,
     "metadata": {},
     "output_type": "execute_result"
    }
   ],
   "source": [
    "model.fit(X_train, y_train)"
   ]
  },
  {
   "cell_type": "code",
   "execution_count": 108,
   "metadata": {},
   "outputs": [],
   "source": [
    "pred = model.predict(X_test)"
   ]
  },
  {
   "cell_type": "code",
   "execution_count": 109,
   "metadata": {},
   "outputs": [
    {
     "name": "stdout",
     "output_type": "stream",
     "text": [
      "Accuracy of logistic regression model: 0.53954802259887\n"
     ]
    }
   ],
   "source": [
    "print(\"Accuracy of logistic regression model: {}\".format(model.score(X_test, y_test)))"
   ]
  },
  {
   "cell_type": "code",
   "execution_count": 110,
   "metadata": {},
   "outputs": [
    {
     "data": {
      "text/plain": [
       "array([[ 30,  29],\n",
       "       [134, 161]])"
      ]
     },
     "execution_count": 110,
     "metadata": {},
     "output_type": "execute_result"
    }
   ],
   "source": [
    "confusion_matrix(pred, y_test)"
   ]
  },
  {
   "cell_type": "code",
   "execution_count": 111,
   "metadata": {},
   "outputs": [
    {
     "name": "stdout",
     "output_type": "stream",
     "text": [
      "Confussion matrix: [[ 30  29]\n",
      " [134 161]]\n"
     ]
    }
   ],
   "source": [
    "print(\"Confussion matrix: {}\".format(confusion_matrix(pred, y_test)))"
   ]
  },
  {
   "cell_type": "code",
   "execution_count": null,
   "metadata": {},
   "outputs": [],
   "source": []
  },
  {
   "cell_type": "code",
   "execution_count": null,
   "metadata": {},
   "outputs": [],
   "source": []
  }
 ],
 "metadata": {
  "kernelspec": {
   "display_name": "Python (deep)",
   "language": "python",
   "name": "deep"
  },
  "language_info": {
   "codemirror_mode": {
    "name": "ipython",
    "version": 3
   },
   "file_extension": ".py",
   "mimetype": "text/x-python",
   "name": "python",
   "nbconvert_exporter": "python",
   "pygments_lexer": "ipython3",
   "version": "3.6.4"
  }
 },
 "nbformat": 4,
 "nbformat_minor": 2
}
